{
 "cells": [
  {
   "cell_type": "code",
   "execution_count": 36,
   "metadata": {},
   "outputs": [],
   "source": [
    "import mysql.connector as connection\n",
    "import pandas as pd\n",
    "from google.cloud import bigquery\n",
    "import mysql"
   ]
  },
  {
   "cell_type": "code",
   "execution_count": 37,
   "metadata": {},
   "outputs": [],
   "source": [
    "from dotenv import load_dotenv\n",
    "import os \n",
    "\n",
    "load_dotenv()\n",
    "myproj      = os.getenv(\"proj\")\n",
    "myhost      = os.getenv(\"host\")\n",
    "myuser      = os.getenv(\"user\")\n",
    "mypasswd    = os.getenv(\"passwd\")\n",
    "mydatabase  = os.getenv(\"database\")\n",
    "os.environ[\"GOOGLE_APPLICATION_CREDENTIALS\"] = \"consultas-sql-375300-097b59c460bf.json\""
   ]
  },
  {
   "cell_type": "code",
   "execution_count": 38,
   "metadata": {},
   "outputs": [],
   "source": [
    "def mysqltobq(table):\n",
    "    proj=myproj\n",
    "    result=\"\"\n",
    "    \n",
    "    mydb = mysql.connector.connect(\n",
    "      host=myhost,\n",
    "      user=myuser,\n",
    "      passwd=mypasswd,\n",
    "      database=mydatabase\n",
    "    )\n",
    "\n",
    "    allTbls = [\"productlines\", \"products\", \"offices\", \"orders\", \"payments\", \"customers\", \"employees\", \"orderdetails\"]\n",
    "\n",
    "    if (table != \"ALL\"):        \n",
    "        result = f\"{table} table loaded!\"\n",
    "        query = f\"SELECT * FROM {mydatabase}.{table}\"\n",
    "        result_df = pd.read_sql(query,mydb)        \n",
    "        \n",
    "        client = bigquery.Client()    \n",
    "        table_id = proj+f\".datos_prueba.{table}\"\n",
    "        table = client.get_table(table_id)\n",
    "        # mydb.close()\n",
    "    \n",
    "        job_config = bigquery.LoadJobConfig(\n",
    "            schema=table.schema,\n",
    "            write_disposition=\"WRITE_TRUNCATE\"\n",
    "        )\n",
    "        \n",
    "        job= client.load_table_from_dataframe(\n",
    "            result_df,\n",
    "            table_id,\n",
    "            job_config=job_config\n",
    "        )\n",
    "\n",
    "    elif (table == \"ALL\"):        \n",
    "        result = \"Tables: \"\n",
    "        for t in allTbls:\n",
    "            \n",
    "            if ((allTbls[len(allTbls) - 2])==t):\n",
    "                result = f\"{result} {t} &\" \n",
    "            elif ((allTbls[len(allTbls) - 1])==t):\n",
    "                result = f\"{result} {t} \"    \n",
    "            else:\n",
    "                result = f\"{result} {t}, \"\n",
    "\n",
    "            query = f\"SELECT * FROM {mydatabase}.{t}\"\n",
    "            # print(query)\n",
    "            result_df = pd.read_sql(query,mydb)        \n",
    "            \n",
    "            client = bigquery.Client()    \n",
    "            table_id = proj+f\".datos_prueba.{t}\"\n",
    "            table = client.get_table(table_id)            \n",
    "        \n",
    "            job_config = bigquery.LoadJobConfig(\n",
    "                schema=table.schema,\n",
    "                write_disposition=\"WRITE_TRUNCATE\"\n",
    "            )\n",
    "            \n",
    "            job= client.load_table_from_dataframe(\n",
    "                result_df,\n",
    "                table_id,\n",
    "                job_config=job_config\n",
    "            )\n",
    "\n",
    "        result = result+\" loaded!\"\n",
    "    mydb.close()\n",
    "    return result"
   ]
  },
  {
   "cell_type": "code",
   "execution_count": 39,
   "metadata": {},
   "outputs": [
    {
     "name": "stderr",
     "output_type": "stream",
     "text": [
      "C:\\Users\\grego\\AppData\\Local\\Temp\\ipykernel_4944\\3281181556.py:48: UserWarning: pandas only supports SQLAlchemy connectable (engine/connection) or database string URI or sqlite3 DBAPI2 connection. Other DBAPI2 objects are not tested. Please consider using SQLAlchemy.\n",
      "  result_df = pd.read_sql(query,mydb)\n",
      "C:\\Users\\grego\\AppData\\Local\\Temp\\ipykernel_4944\\3281181556.py:48: UserWarning: pandas only supports SQLAlchemy connectable (engine/connection) or database string URI or sqlite3 DBAPI2 connection. Other DBAPI2 objects are not tested. Please consider using SQLAlchemy.\n",
      "  result_df = pd.read_sql(query,mydb)\n",
      "C:\\Users\\grego\\AppData\\Local\\Temp\\ipykernel_4944\\3281181556.py:48: UserWarning: pandas only supports SQLAlchemy connectable (engine/connection) or database string URI or sqlite3 DBAPI2 connection. Other DBAPI2 objects are not tested. Please consider using SQLAlchemy.\n",
      "  result_df = pd.read_sql(query,mydb)\n",
      "C:\\Users\\grego\\AppData\\Local\\Temp\\ipykernel_4944\\3281181556.py:48: UserWarning: pandas only supports SQLAlchemy connectable (engine/connection) or database string URI or sqlite3 DBAPI2 connection. Other DBAPI2 objects are not tested. Please consider using SQLAlchemy.\n",
      "  result_df = pd.read_sql(query,mydb)\n",
      "C:\\Users\\grego\\AppData\\Local\\Temp\\ipykernel_4944\\3281181556.py:48: UserWarning: pandas only supports SQLAlchemy connectable (engine/connection) or database string URI or sqlite3 DBAPI2 connection. Other DBAPI2 objects are not tested. Please consider using SQLAlchemy.\n",
      "  result_df = pd.read_sql(query,mydb)\n",
      "C:\\Users\\grego\\AppData\\Local\\Temp\\ipykernel_4944\\3281181556.py:48: UserWarning: pandas only supports SQLAlchemy connectable (engine/connection) or database string URI or sqlite3 DBAPI2 connection. Other DBAPI2 objects are not tested. Please consider using SQLAlchemy.\n",
      "  result_df = pd.read_sql(query,mydb)\n",
      "C:\\Users\\grego\\AppData\\Local\\Temp\\ipykernel_4944\\3281181556.py:48: UserWarning: pandas only supports SQLAlchemy connectable (engine/connection) or database string URI or sqlite3 DBAPI2 connection. Other DBAPI2 objects are not tested. Please consider using SQLAlchemy.\n",
      "  result_df = pd.read_sql(query,mydb)\n",
      "C:\\Users\\grego\\AppData\\Local\\Temp\\ipykernel_4944\\3281181556.py:48: UserWarning: pandas only supports SQLAlchemy connectable (engine/connection) or database string URI or sqlite3 DBAPI2 connection. Other DBAPI2 objects are not tested. Please consider using SQLAlchemy.\n",
      "  result_df = pd.read_sql(query,mydb)\n"
     ]
    },
    {
     "data": {
      "text/plain": [
       "'Tables:  productlines,  products,  offices,  orders,  payments,  customers,  employees & orderdetails  loaded!'"
      ]
     },
     "execution_count": 39,
     "metadata": {},
     "output_type": "execute_result"
    }
   ],
   "source": [
    "mysqltobq(\"ALL\")"
   ]
  }
 ],
 "metadata": {
  "kernelspec": {
   "display_name": "Python 3",
   "language": "python",
   "name": "python3"
  },
  "language_info": {
   "codemirror_mode": {
    "name": "ipython",
    "version": 3
   },
   "file_extension": ".py",
   "mimetype": "text/x-python",
   "name": "python",
   "nbconvert_exporter": "python",
   "pygments_lexer": "ipython3",
   "version": "3.11.0"
  },
  "orig_nbformat": 4,
  "vscode": {
   "interpreter": {
    "hash": "77fbab7113812958326bb21073a47f11230aec63ed356ebd6ce871b406501e54"
   }
  }
 },
 "nbformat": 4,
 "nbformat_minor": 2
}
